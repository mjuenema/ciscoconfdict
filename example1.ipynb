{
 "cells": [
  {
   "cell_type": "markdown",
   "metadata": {},
   "source": [
    "## Example 1: Basics"
   ]
  },
  {
   "cell_type": "markdown",
   "metadata": {},
   "source": [
    "The ``ciscoconfdict.CiscoConfDict`` class accepts the same arguments as ``ciscoconfparse.CiscoConfParse``, either a file object or a list of configuration lines."
   ]
  },
  {
   "cell_type": "code",
   "execution_count": 6,
   "metadata": {},
   "outputs": [],
   "source": [
    "config = \"\"\"\n",
    "clock timezone GMT 0\n",
    "ntp server 192.0.2.34\n",
    "ntp server 192.0.2.35\n",
    "!\n",
    "interface null0\n",
    " no ip unreachables\n",
    "!\n",
    "interface Ethernet2/0\n",
    " description Internet\n",
    " ip address 192.0.2.14 255.255.255.240\n",
    "!\n",
    "interface Ethernet2/1\n",
    " description DMZ\n",
    " ip address 192.0.2.17 255.255.255.240\n",
    "\"\"\".split('\\n')\n",
    "\n",
    "import ciscoconfdict\n",
    "confdict = ciscoconfdict.CiscoConfDict(config)"
   ]
  },
  {
   "cell_type": "markdown",
   "metadata": {},
   "source": [
    "The configuration can be searched using Python dictionary-style access. In contracst to Python dictionaries, the \"keys\" are actually interpreted as regular expressions."
   ]
  },
  {
   "cell_type": "code",
   "execution_count": 12,
   "metadata": {},
   "outputs": [],
   "source": [
    "ntp_servers = confdict['^ntp server']"
   ]
  },
  {
   "cell_type": "markdown",
   "metadata": {},
   "source": [
    "The result is a ``ciscoconfdict.CiscoConfLines`` object."
   ]
  },
  {
   "cell_type": "code",
   "execution_count": 13,
   "metadata": {},
   "outputs": [
    {
     "data": {
      "text/plain": [
       "ciscoconfdict.CiscoConfLines"
      ]
     },
     "execution_count": 13,
     "metadata": {},
     "output_type": "execute_result"
    }
   ],
   "source": [
    "type(ntp_servers)"
   ]
  },
  {
   "cell_type": "markdown",
   "metadata": {},
   "source": [
    "The length of the ``ciscoconfdict.CiscoConfLines`` object shows how many ``ntp server`` lines were found."
   ]
  },
  {
   "cell_type": "code",
   "execution_count": 16,
   "metadata": {},
   "outputs": [
    {
     "data": {
      "text/plain": [
       "2"
      ]
     },
     "execution_count": 16,
     "metadata": {},
     "output_type": "execute_result"
    }
   ],
   "source": [
    "len(ntp_servers)"
   ]
  },
  {
   "cell_type": "markdown",
   "metadata": {},
   "source": [
    "The found lines can be accessed as the ``.ioscfg`` property or ``.text`` property."
   ]
  },
  {
   "cell_type": "code",
   "execution_count": 17,
   "metadata": {},
   "outputs": [
    {
     "data": {
      "text/plain": [
       "['ntp server 192.0.2.34', 'ntp server 192.0.2.35']"
      ]
     },
     "execution_count": 17,
     "metadata": {},
     "output_type": "execute_result"
    }
   ],
   "source": [
    "ntp_servers.ioscfg"
   ]
  },
  {
   "cell_type": "code",
   "execution_count": 18,
   "metadata": {},
   "outputs": [
    {
     "name": "stdout",
     "output_type": "stream",
     "text": [
      "ntp server 192.0.2.34\n",
      "ntp server 192.0.2.35\n"
     ]
    }
   ],
   "source": [
    "print(ntp_servers.text)"
   ]
  },
  {
   "cell_type": "markdown",
   "metadata": {},
   "source": [
    "Indexed access allows selecting individual ``ntp server`` lines. The returned values are also ``ciscoconfdict.CiscoConfLines`` objects, albeit with a lenght of one."
   ]
  },
  {
   "cell_type": "code",
   "execution_count": 19,
   "metadata": {},
   "outputs": [
    {
     "data": {
      "text/plain": [
       "<ciscoconfdict.CiscoConfLines at 0x7f5ae4167898>"
      ]
     },
     "execution_count": 19,
     "metadata": {},
     "output_type": "execute_result"
    }
   ],
   "source": [
    "ntp_servers[0]"
   ]
  },
  {
   "cell_type": "code",
   "execution_count": 20,
   "metadata": {},
   "outputs": [
    {
     "data": {
      "text/plain": [
       "1"
      ]
     },
     "execution_count": 20,
     "metadata": {},
     "output_type": "execute_result"
    }
   ],
   "source": [
    "len(ntp_servers[0])"
   ]
  },
  {
   "cell_type": "markdown",
   "metadata": {},
   "source": [
    "Iterating over the results is also possible."
   ]
  },
  {
   "cell_type": "code",
   "execution_count": 23,
   "metadata": {},
   "outputs": [
    {
     "name": "stdout",
     "output_type": "stream",
     "text": [
      "<class 'ciscoconfdict.CiscoConfLines'>\n",
      "<class 'ciscoconfdict.CiscoConfLines'>\n"
     ]
    }
   ],
   "source": [
    "for ntp_server in ntp_servers:\n",
    "    print(type(ntp_server))"
   ]
  },
  {
   "cell_type": "markdown",
   "metadata": {},
   "source": [
    "Results can be filtered further by nested dictionary access."
   ]
  },
  {
   "cell_type": "code",
   "execution_count": 26,
   "metadata": {},
   "outputs": [
    {
     "data": {
      "text/plain": [
       "'ntp server 192.0.2.34'"
      ]
     },
     "execution_count": 26,
     "metadata": {},
     "output_type": "execute_result"
    }
   ],
   "source": [
    "first_ntp_server = ntp_servers['192.0.2.34']\n",
    "first_ntp_server.text"
   ]
  },
  {
   "cell_type": "markdown",
   "metadata": {},
   "source": [
    "The same outcome can be achieved directly although the code below is a bit contrived. Check ``example2.ipynb`` for a better example."
   ]
  },
  {
   "cell_type": "code",
   "execution_count": 28,
   "metadata": {},
   "outputs": [
    {
     "data": {
      "text/plain": [
       "'ntp server 192.0.2.35'"
      ]
     },
     "execution_count": 28,
     "metadata": {},
     "output_type": "execute_result"
    }
   ],
   "source": [
    "second_ntp_server = confdict['^ntp server']['192.0.2.35']\n",
    "second_ntp_server.text"
   ]
  },
  {
   "cell_type": "code",
   "execution_count": null,
   "metadata": {},
   "outputs": [],
   "source": []
  }
 ],
 "metadata": {
  "kernelspec": {
   "display_name": "Python 3",
   "language": "python",
   "name": "python3"
  },
  "language_info": {
   "codemirror_mode": {
    "name": "ipython",
    "version": 3
   },
   "file_extension": ".py",
   "mimetype": "text/x-python",
   "name": "python",
   "nbconvert_exporter": "python",
   "pygments_lexer": "ipython3",
   "version": "3.7.3"
  }
 },
 "nbformat": 4,
 "nbformat_minor": 2
}
