{
 "cells": [
  {
   "cell_type": "markdown",
   "metadata": {},
   "source": [
    "## Example 1: Basics"
   ]
  },
  {
   "cell_type": "markdown",
   "metadata": {},
   "source": [
    "The ``ciscoconfdict.CiscoConfDict`` class accepts the same arguments as ``ciscoconfparse.CiscoConfParse``, either a file object or a list of configuration lines."
   ]
  },
  {
   "cell_type": "code",
   "execution_count": 7,
   "metadata": {},
   "outputs": [
    {
     "data": {
      "text/plain": [
       "['__builtins__',\n",
       " '__cached__',\n",
       " '__doc__',\n",
       " '__file__',\n",
       " '__loader__',\n",
       " '__name__',\n",
       " '__package__',\n",
       " '__path__',\n",
       " '__spec__']"
      ]
     },
     "execution_count": 7,
     "metadata": {},
     "output_type": "execute_result"
    }
   ],
   "source": [
    "config = \"\"\"\n",
    "clock timezone GMT 0\n",
    "ntp server 192.0.2.34\n",
    "ntp server 192.0.2.35\n",
    "!\n",
    "interface null0\n",
    " no ip unreachables\n",
    "!\n",
    "interface Ethernet2/0\n",
    " description Internet\n",
    " ip address 192.0.2.14 255.255.255.240\n",
    "!\n",
    "interface Ethernet2/1\n",
    " description DMZ\n",
    " ip address 192.0.2.17 255.255.255.240\n",
    "\"\"\".split('\\n')\n",
    "\n",
    "import ciscoconfdict\n",
    "dir(ciscoconfdict)\n",
    "\n",
    "#confdict = ciscoconfdict.CiscoConfDict(config)\n",
    "#confdict"
   ]
  },
  {
   "cell_type": "code",
   "execution_count": 3,
   "metadata": {},
   "outputs": [],
   "source": []
  },
  {
   "cell_type": "markdown",
   "metadata": {},
   "source": [
    "## A second heading"
   ]
  },
  {
   "cell_type": "markdown",
   "metadata": {},
   "source": [
    "and some more text"
   ]
  },
  {
   "cell_type": "code",
   "execution_count": null,
   "metadata": {},
   "outputs": [],
   "source": []
  }
 ],
 "metadata": {
  "kernelspec": {
   "display_name": "Python 3",
   "language": "python",
   "name": "python3"
  },
  "language_info": {
   "codemirror_mode": {
    "name": "ipython",
    "version": 3
   },
   "file_extension": ".py",
   "mimetype": "text/x-python",
   "name": "python",
   "nbconvert_exporter": "python",
   "pygments_lexer": "ipython3",
   "version": "3.7.3"
  }
 },
 "nbformat": 4,
 "nbformat_minor": 2
}